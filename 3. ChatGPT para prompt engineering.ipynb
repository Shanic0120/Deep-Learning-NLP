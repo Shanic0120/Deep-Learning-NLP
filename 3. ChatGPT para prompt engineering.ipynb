{
 "cells": [
  {
   "cell_type": "markdown",
   "metadata": {},
   "source": [
    "# ¿Que es ChatGPT?\n",
    "\n",
    "ChatGPT es un modelo de lenguaje de procesamiento de texto basado en la arquitectura de Transformers. Fue entrenado en grandes cantidades de datos de texto y es capaz de generar respuestas coherentes y relevantes a las entradas de texto dadas. Es utilizado en una variedad de aplicaciones, incluyendo chatbots, asistentes virtuales y generación de texto automático.\n",
    "\n",
    "# ¿Que es prompt engineering?\n",
    "\n",
    "La ingeniería de indicaciones o \"prompt engineering\" es un enfoque utilizado para mejorar la calidad de las respuestas generadas por los modelos de lenguaje basados en inteligencia artificial (IA), como GPT-4, a través de la optimización y el ajuste de las solicitudes (prompts) que se les presentan. Los modelos de lenguaje suelen ser más efectivos cuando se les plantean preguntas claras y específicas. La ingeniería de indicaciones trata de diseñar preguntas o instrucciones de una manera que facilite respuestas más precisas, informativas y útiles por parte de la IA.\n",
    "\n",
    "Esto puede involucrar ajustar la redacción, proporcionar contexto adicional o dividir una pregunta compleja en varias preguntas más simples. La ingeniería de indicaciones es una habilidad importante en el desarrollo de aplicaciones de IA, ya que puede mejorar significativamente la eficacia de un modelo de lenguaje sin tener que cambiar su arquitectura subyacente o realizar un entrenamiento adicional.\n",
    "\n",
    "# Algunos usos:\n",
    "\n",
    "## Text to image\n",
    "\n",
    "Text-to-image (texto a imagen) es una tarea en el campo de la inteligencia artificial (IA) que se centra en generar imágenes realistas o estilizadas a partir de descripciones de texto. En otras palabras, es el proceso de convertir una entrada de texto en una representación visual correspondiente utilizando algoritmos de IA, como las redes neuronales.\n",
    "\n",
    "## Text to Video\n",
    "\n",
    "Text-to-video (texto a video) es una tarea en el ámbito de la inteligencia artificial (IA) que se centra en generar videos a partir de descripciones de texto. El objetivo es crear secuencias de video realistas o estilizadas basadas en las descripciones proporcionadas en forma de texto, utilizando algoritmos de IA y técnicas de aprendizaje profundo.\n",
    "\n",
    "## Text to text\n",
    "\n",
    "Text-to-text (texto a texto) es una tarea en el ámbito de la inteligencia artificial (IA), específicamente en el procesamiento del lenguaje natural (NLP, por sus siglas en inglés) y el aprendizaje profundo, que se centra en convertir o transformar un texto de entrada en un texto de salida, preservando o modificando el significado y la estructura según sea necesario."
   ]
  },
  {
   "cell_type": "markdown",
   "metadata": {},
   "source": [
    "# Estructura del Prompt:\n",
    "\n",
    "- Instrucción: una tarea o instrucción específica que desea que el modelo realice\n",
    "\n",
    "- Contexto: puede implicar información externa o contexto adicional que pueda dirigir el modelo hacia mejores respuestas\n",
    "\n",
    "- Datos de entrada: es la entrada o pregunta para la que estamos interesados en encontrar una respuesta\n",
    "\n",
    "- Indicador de salida: indica el tipo o el formato de la salida. No todos los componentes son necesarios para un aviso y el formato depende de la tarea en cuestión."
   ]
  }
 ],
 "metadata": {
  "language_info": {
   "name": "python"
  }
 },
 "nbformat": 4,
 "nbformat_minor": 2
}
